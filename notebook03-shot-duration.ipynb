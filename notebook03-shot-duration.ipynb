{
 "cells": [
  {
   "cell_type": "markdown",
   "metadata": {},
   "source": [
    "# Notebook 03: Shot Duration in All the Presidents Men\n",
    "\n",
    "We now return to take up the question of shot duration in the film *All the President's Men*.\n",
    "As before, the starting point will be loading some libraries and setting up the notebook:"
   ]
  },
  {
   "cell_type": "code",
   "execution_count": null,
   "metadata": {},
   "outputs": [],
   "source": [
    "%pylab inline\n",
    "\n",
    "import numpy as np\n",
    "import scipy as sp\n",
    "import pandas as pd\n",
    "import json\n",
    "\n",
    "import statsmodels.api as sm\n",
    "import statsmodels.formula.api as smf\n",
    "\n",
    "import os\n",
    "from os.path import join, basename"
   ]
  },
  {
   "cell_type": "code",
   "execution_count": null,
   "metadata": {},
   "outputs": [],
   "source": [
    "def conf_int(vals, ndigits=1):\n",
    "    se = 1.96 * np.sqrt(np.var(vals) / len(vals))\n",
    "    mu = np.mean(vals)\n",
    "    return [round(mu - se, ndigits=ndigits), round(mu + se, ndigits=ndigits)]"
   ]
  },
  {
   "cell_type": "code",
   "execution_count": null,
   "metadata": {},
   "outputs": [],
   "source": [
    "import matplotlib.pyplot as plt\n",
    "import matplotlib.patches as patches\n",
    "\n",
    "plt.rcParams[\"figure.figsize\"] = (8,8)"
   ]
  },
  {
   "cell_type": "markdown",
   "metadata": {},
   "source": [
    "## 01: Construct a Code System\n",
    "\n",
    "Our code system consists of two steps. First, we detect shot breaks and\n",
    "therefore detemine the duration of each shot. Then, for the frame in the\n",
    "middle of the shot, we re-use the code system from notebook02 to detect\n",
    "the number and location of faces. Finally, we aggregate the information \n",
    "about each shot to assign a the *shot length*, such as medium-close shot\n",
    "or a very-long shot."
   ]
  },
  {
   "cell_type": "markdown",
   "metadata": {},
   "source": [
    "## 02: Annotate\n",
    "\n",
    "The code system that we want to annotate is provided by the `VideoCsvPipeline` object.\n",
    "Because it is difficult to distribute the original video file, and processing can take\n",
    "a significant amount of time, we will load a cached version of the files as supplied\n",
    "in the notebooks. "
   ]
  },
  {
   "cell_type": "code",
   "execution_count": null,
   "metadata": {
    "scrolled": false
   },
   "outputs": [],
   "source": [
    "if False: # this stops the code from running, which requires the full video file\n",
    "    from dvt.pipeline.csv import VideoCsvPipeline\n",
    "    VideoCsvPipeline(finput=join(\"videos\", \"all-presidents-men.mp4\"), dirout=\"dvt-csv\").run()\n",
    "    \n",
    "meta = pd.read_csv(join('cache', 'all-presidents-men', 'meta.csv'))\n",
    "cut = pd.read_csv(join('cache', 'all-presidents-men', 'cut.csv'))\n",
    "length = pd.read_csv(join('cache', 'all-presidents-men', 'length.csv'))"
   ]
  },
  {
   "cell_type": "markdown",
   "metadata": {},
   "source": [
    "As we did in the first notebook, the frames per second are taken from the metadata\n",
    "and used to compute the length of each shot."
   ]
  },
  {
   "cell_type": "code",
   "execution_count": null,
   "metadata": {},
   "outputs": [],
   "source": [
    "cut['length_sec'] = ((cut['frame_end'] - cut['frame_start']) / meta['fps'].values)\n",
    "cut"
   ]
  },
  {
   "cell_type": "markdown",
   "metadata": {},
   "source": [
    "Then, we join the shot data together with the data about detected faces."
   ]
  },
  {
   "cell_type": "code",
   "execution_count": null,
   "metadata": {},
   "outputs": [],
   "source": [
    "df = cut.join(length.set_index('frame'), on='mpoint')\n",
    "df"
   ]
  },
  {
   "cell_type": "markdown",
   "metadata": {},
   "source": [
    "Notice that now each shot is associated with a code indicating the shot length."
   ]
  },
  {
   "cell_type": "markdown",
   "metadata": {},
   "source": [
    "## 03: Combine with Metadata\n",
    "\n",
    "Ideally we would do this analysis with a collection of films, and in that case would have \n",
    "rich metadata about each of them. In this workshop we have only one film, so there is little\n",
    "to be gained from adding metadata."
   ]
  },
  {
   "cell_type": "markdown",
   "metadata": {},
   "source": [
    "## 04: Exploratory Analysis\n",
    "\n",
    "We can compute the median shot length of each shot type:"
   ]
  },
  {
   "cell_type": "code",
   "execution_count": null,
   "metadata": {},
   "outputs": [],
   "source": [
    "x = np.sort(df.shot_length.unique())\n",
    "y =[np.median(df[df['shot_length'] == stype].length_sec.values) for stype in x]\n",
    "    \n",
    "plt.plot(x, y)"
   ]
  },
  {
   "cell_type": "markdown",
   "metadata": {},
   "source": [
    "What pattern(s) do you notice here? What shot types last the longest and\n",
    "what types alst the shortest?\n",
    "\n",
    "Similarly, we can investigate the relationship between the number of \n",
    "people onscreen and shot length:"
   ]
  },
  {
   "cell_type": "code",
   "execution_count": null,
   "metadata": {},
   "outputs": [],
   "source": [
    "x = [0, 1, 2, 3, 4]\n",
    "y =[np.median(df[df['num_people'] == stype].length_sec.values) for stype in x]\n",
    "    \n",
    "plt.plot(x, y)"
   ]
  },
  {
   "cell_type": "markdown",
   "metadata": {},
   "source": [
    "How does this plot compare to the shot length dataset? Does it\n",
    "tell the same or a different story? It may be helpful to see \n",
    "the intersection between the number of people and the shot length\n",
    "over the film:"
   ]
  },
  {
   "cell_type": "code",
   "execution_count": null,
   "metadata": {},
   "outputs": [],
   "source": [
    "pd.crosstab(df['num_people'], df['shot_length'])"
   ]
  },
  {
   "cell_type": "markdown",
   "metadata": {},
   "source": [
    "A lot of research has been done comparing shot lengths across films/directors/genres.\n",
    "What features might shot length be a proxy for?"
   ]
  },
  {
   "cell_type": "markdown",
   "metadata": {},
   "source": [
    "## 05: Communicate\n",
    "\n",
    "We published an article that featured an analysis of shot lengths and shot\n",
    "duration for Network Sitcoms (available OA here: https://culturalanalytics.org/article/11045)\n",
    "and are working on a larger study of New Hollywood films. If you have any thoughts\n",
    "or ideas, feedback is very much welcome!"
   ]
  },
  {
   "cell_type": "code",
   "execution_count": null,
   "metadata": {},
   "outputs": [],
   "source": []
  }
 ],
 "metadata": {
  "kernelspec": {
   "display_name": "Python 3",
   "language": "python",
   "name": "python3"
  },
  "language_info": {
   "codemirror_mode": {
    "name": "ipython",
    "version": 3
   },
   "file_extension": ".py",
   "mimetype": "text/x-python",
   "name": "python",
   "nbconvert_exporter": "python",
   "pygments_lexer": "ipython3",
   "version": "3.7.4"
  }
 },
 "nbformat": 4,
 "nbformat_minor": 2
}
