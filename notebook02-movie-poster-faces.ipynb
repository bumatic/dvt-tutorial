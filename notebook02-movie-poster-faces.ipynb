{
 "cells": [
  {
   "cell_type": "markdown",
   "metadata": {},
   "source": [
    "# Notebook 02: Analysis of Faces in U.S. Movie Posters (1980-2019)\n",
    "\n",
    "In this notebook we will work through a study of faces in U.S. movie posters by applying\n",
    "the Distant Viewing approach through the DVT.\n",
    "\n",
    "To start, run the following lines to load some standard Python libraries, a helpful helper\n",
    "function, and set up plotting in the Jupyter notebook."
   ]
  },
  {
   "cell_type": "code",
   "execution_count": null,
   "metadata": {},
   "outputs": [],
   "source": [
    "%pylab inline\n",
    "\n",
    "import numpy as np\n",
    "import scipy as sp\n",
    "import pandas as pd\n",
    "import json\n",
    "\n",
    "import statsmodels.api as sm\n",
    "import statsmodels.formula.api as smf\n",
    "\n",
    "import os\n",
    "from os.path import join, basename"
   ]
  },
  {
   "cell_type": "code",
   "execution_count": null,
   "metadata": {},
   "outputs": [],
   "source": [
    "def conf_int(vals, ndigits=1):\n",
    "    se = 1.96 * np.sqrt(np.var(vals) / len(vals))\n",
    "    mu = np.mean(vals)\n",
    "    return [round(mu - se, ndigits=ndigits), round(mu + se, ndigits=ndigits)]"
   ]
  },
  {
   "cell_type": "code",
   "execution_count": null,
   "metadata": {},
   "outputs": [],
   "source": [
    "import matplotlib.pyplot as plt\n",
    "import matplotlib.patches as patches\n",
    "\n",
    "plt.rcParams[\"figure.figsize\"] = (8,8)"
   ]
  },
  {
   "cell_type": "markdown",
   "metadata": {},
   "source": [
    "## 1. Create a Code System\n",
    "\n",
    "The first step in DV is to construct a code system. Let's begin by \n",
    "loading a sample movie poster from the dataset."
   ]
  },
  {
   "cell_type": "code",
   "execution_count": null,
   "metadata": {},
   "outputs": [],
   "source": [
    "img_paths = [join(\"images\", \"posters\", x) for x in os.listdir(join(\"images\", \"posters\"))]"
   ]
  },
  {
   "cell_type": "code",
   "execution_count": null,
   "metadata": {},
   "outputs": [],
   "source": [
    "img = imread(img_paths[4])\n",
    "plt.imshow(img)\n",
    "_ = plt.axis(\"off\")"
   ]
  },
  {
   "cell_type": "markdown",
   "metadata": {},
   "source": [
    "We are going to use a code system that consists in identifying all of the faces present\n",
    "in a movie poster. We will record the location, number, and size of each face and then\n",
    "explore the relationship of these across time and genre."
   ]
  },
  {
   "cell_type": "markdown",
   "metadata": {},
   "source": [
    "## 2. Annotate the Corpus\n"
   ]
  },
  {
   "cell_type": "markdown",
   "metadata": {},
   "source": [
    "### 2a. Extract information from the visual material\n",
    "\n",
    "In order to extract information about faces in the corpus, we will make use \n",
    "of the DVT. Here, we need an `ImageInput` object, as well as an annotator\n",
    "specifically designed for detecting faces."
   ]
  },
  {
   "cell_type": "code",
   "execution_count": null,
   "metadata": {},
   "outputs": [],
   "source": [
    "from dvt.core import DataExtraction, ImageInput\n",
    "from dvt.annotate.face import FaceAnnotator, FaceDetectMtcnn"
   ]
  },
  {
   "cell_type": "markdown",
   "metadata": {},
   "source": [
    "To run this, we use an approach similar to notebook 01. It will take a while\n",
    "to run the code over the entire dataset; to test, we start by just running over\n",
    "the first 10 images."
   ]
  },
  {
   "cell_type": "code",
   "execution_count": null,
   "metadata": {},
   "outputs": [],
   "source": [
    "input_obj = ImageInput(input_paths=img_paths[:10])\n",
    "dextra = DataExtraction(input_obj)\n",
    "dextra.run_annotators([\n",
    "    FaceAnnotator(detector=FaceDetectMtcnn())\n",
    "])"
   ]
  },
  {
   "cell_type": "markdown",
   "metadata": {},
   "source": [
    "The output data contains metadata about each image, as well as the detected faces."
   ]
  },
  {
   "cell_type": "code",
   "execution_count": null,
   "metadata": {},
   "outputs": [],
   "source": [
    "dt = dextra.get_json()\n",
    "\n",
    "dt.keys()"
   ]
  },
  {
   "cell_type": "markdown",
   "metadata": {},
   "source": [
    "Each item in the face data gives information about one detected face."
   ]
  },
  {
   "cell_type": "code",
   "execution_count": null,
   "metadata": {},
   "outputs": [],
   "source": [
    "dt['face']"
   ]
  },
  {
   "cell_type": "markdown",
   "metadata": {},
   "source": [
    "For the purpose of visualizing the output, it is helpful to collapse all of the\n",
    "infomation about each poster in one location:"
   ]
  },
  {
   "cell_type": "code",
   "execution_count": null,
   "metadata": {},
   "outputs": [],
   "source": [
    "all_faces = [{'path': x['paths'], 'face_count': 0, 'faces': []} for x in dt['meta']]\n",
    "for i, face in enumerate(dt['face']):\n",
    "    all_faces[face['frame']]['face_count'] += 1\n",
    "    all_faces[face['frame']]['faces'].append(face)"
   ]
  },
  {
   "cell_type": "markdown",
   "metadata": {},
   "source": [
    "Here, for example, is all of the extracted data about the Poster 3:"
   ]
  },
  {
   "cell_type": "code",
   "execution_count": null,
   "metadata": {},
   "outputs": [],
   "source": [
    "all_faces[3]"
   ]
  },
  {
   "cell_type": "markdown",
   "metadata": {},
   "source": [
    "To understand how the algorithm is working, let's plot the detected faces."
   ]
  },
  {
   "cell_type": "code",
   "execution_count": null,
   "metadata": {},
   "outputs": [],
   "source": [
    "this_img = all_faces[3]\n",
    "img = imread(this_img['path'])\n",
    "\n",
    "fig, ax = plt.subplots(1)\n",
    "ax.imshow(img)\n",
    "_ = plt.axis(\"off\")\n",
    "\n",
    "for this_face in this_img['faces']:\n",
    "    x_center = (this_face['left'] + this_face['right'] / 2)\n",
    "    y_center = (this_face['top'] + this_face['bottom'] / 2)\n",
    "    height = (this_face['bottom'] - this_face['top']) \n",
    "    width = (this_face['right'] - this_face['left'])\n",
    "\n",
    "    rect = patches.Rectangle(\n",
    "        (this_face['left'],this_face['top']),\n",
    "        width,\n",
    "        height,\n",
    "        linewidth=3,\n",
    "        edgecolor='orange',\n",
    "        facecolor='none'\n",
    "    )\n",
    "    ax.add_patch(rect)"
   ]
  },
  {
   "cell_type": "markdown",
   "metadata": {},
   "source": [
    "Not too bad! It finds all three faces in the image and places them reasonably well\n",
    "on the poster. "
   ]
  },
  {
   "cell_type": "markdown",
   "metadata": {},
   "source": [
    "### 2b. Aggregate information across the corpus\n",
    "\n",
    "Inside of waiting for everyone to run over the entire collection (which can take an\n",
    "hour or more), we will now load the cached data about the entire collection of \n",
    "images:"
   ]
  },
  {
   "cell_type": "code",
   "execution_count": null,
   "metadata": {},
   "outputs": [],
   "source": [
    "with open(join('cache', 'movie_face.json'), 'r') as json_file:\n",
    "    dt = json.load(json_file)"
   ]
  },
  {
   "cell_type": "markdown",
   "metadata": {},
   "source": [
    "As with the smaller collection, we will aggregate the information for\n",
    "each image in one place."
   ]
  },
  {
   "cell_type": "code",
   "execution_count": null,
   "metadata": {},
   "outputs": [],
   "source": [
    "all_faces = [{'path': x['paths'], 'face_count': 0, 'faces': []} for x in dt['meta']]\n",
    "for i, face in enumerate(dt['face']):\n",
    "    all_faces[face['frame']]['face_count'] += 1\n",
    "    all_faces[face['frame']]['faces'].append(face)"
   ]
  },
  {
   "cell_type": "markdown",
   "metadata": {},
   "source": [
    "It will be helpful to further collapse all of the information into a \n",
    "rectangular data frame object that we can join with metadata about the\n",
    "posters."
   ]
  },
  {
   "cell_type": "code",
   "execution_count": null,
   "metadata": {},
   "outputs": [],
   "source": [
    "face_info = pd.DataFrame({\n",
    "    'img': [basename(x['path']) for x in all_faces],\n",
    "    'face_count': [x['face_count'] for x in all_faces],\n",
    "    'faces': [x['faces'] for x in all_faces]\n",
    "})\n",
    "face_info"
   ]
  },
  {
   "cell_type": "markdown",
   "metadata": {},
   "source": [
    "## 3. Combine with Metadata\n",
    "\n",
    "We have several metadata fields about each of the movie posters. Here are the\n",
    "available fields:"
   ]
  },
  {
   "cell_type": "code",
   "execution_count": null,
   "metadata": {
    "scrolled": false
   },
   "outputs": [],
   "source": [
    "df = pd.read_csv(join(\"meta\", \"poster_metadata.csv\"))\n",
    "df"
   ]
  },
  {
   "cell_type": "markdown",
   "metadata": {},
   "source": [
    "Many interesting research questions can be addressed by combing the metadata with\n",
    "our extracted features. Let's merge the metadata with our information about faces\n",
    "in the images."
   ]
  },
  {
   "cell_type": "code",
   "execution_count": null,
   "metadata": {},
   "outputs": [],
   "source": [
    "df = df.join(face_info.set_index('img'), on='img')\n",
    "df"
   ]
  },
  {
   "cell_type": "markdown",
   "metadata": {},
   "source": [
    "Now, we can proceed to an exploratory analysis of the collection."
   ]
  },
  {
   "cell_type": "markdown",
   "metadata": {},
   "source": [
    "## 4. Exploratory Analysis\n",
    "\n",
    "### 4a. Detected faces\n",
    "\n",
    "Before doing any aggregative analysis, let's start by looking at some of the\n",
    "detected faces. Here are the 36 movie posters corresponding to the movies \n",
    "with the highest number of ratings on IMDb:"
   ]
  },
  {
   "cell_type": "code",
   "execution_count": null,
   "metadata": {},
   "outputs": [],
   "source": [
    "plt.figure(figsize=(12, 14))\n",
    "\n",
    "nx = 6\n",
    "ny = 6\n",
    "\n",
    "df = df.sort_values('rating_count', ascending=False)\n",
    "\n",
    "pnum = 1\n",
    "for j, row in df[:36].iterrows():\n",
    "    img = imread(join('images', 'posters', row['img']))\n",
    "    ax = plt.subplot(ny, nx, pnum)\n",
    "    plt.imshow(img)\n",
    "    plt.axis(\"off\")\n",
    "        \n",
    "    for this_face in row['faces']:\n",
    "        x_center = (this_face['left'] + this_face['right'] / 2)\n",
    "        y_center = (this_face['top'] + this_face['bottom'] / 2)\n",
    "        height = (this_face['bottom'] - this_face['top']) \n",
    "        width = (this_face['right'] - this_face['left'])\n",
    "\n",
    "        rect = patches.Rectangle(\n",
    "            (this_face['left'],this_face['top']),\n",
    "            width,\n",
    "            height,\n",
    "            linewidth=3,\n",
    "            edgecolor='orange',\n",
    "            facecolor='none'\n",
    "        )\n",
    "        ax.add_patch(rect)\n",
    "\n",
    "    pnum += 1\n",
    "    \n",
    "plt.tight_layout(pad=0)"
   ]
  },
  {
   "cell_type": "markdown",
   "metadata": {},
   "source": [
    "The algorithm misses some small faces, and masked faces, but generally does very well.\n",
    "We can also take a look at the posters that seem to have the highest number of faces."
   ]
  },
  {
   "cell_type": "code",
   "execution_count": null,
   "metadata": {},
   "outputs": [],
   "source": [
    "plt.figure(figsize=(12, 14))\n",
    "\n",
    "nx = 6\n",
    "ny = 6\n",
    "\n",
    "df = df.sort_values('face_count', ascending=False)\n",
    "\n",
    "pnum = 1\n",
    "for j, row in df[:36].iterrows():\n",
    "    img = imread(join('images', 'posters', row['img']))\n",
    "    ax = plt.subplot(ny, nx, pnum)\n",
    "    plt.imshow(img)\n",
    "    plt.axis(\"off\")\n",
    "        \n",
    "    for this_face in row['faces']:\n",
    "        x_center = (this_face['left'] + this_face['right'] / 2)\n",
    "        y_center = (this_face['top'] + this_face['bottom'] / 2)\n",
    "        height = (this_face['bottom'] - this_face['top']) \n",
    "        width = (this_face['right'] - this_face['left'])\n",
    "\n",
    "        rect = patches.Rectangle(\n",
    "            (this_face['left'],this_face['top']),\n",
    "            width,\n",
    "            height,\n",
    "            linewidth=3,\n",
    "            edgecolor='orange',\n",
    "            facecolor='none'\n",
    "        )\n",
    "        ax.add_patch(rect)\n",
    "\n",
    "    pnum += 1\n",
    "    \n",
    "plt.tight_layout(pad=0)"
   ]
  },
  {
   "cell_type": "markdown",
   "metadata": {},
   "source": [
    "Given the small size of the faces on some of these posters, the algorithm again is reasonably\n",
    "good at detected faces on the posters."
   ]
  },
  {
   "cell_type": "markdown",
   "metadata": {},
   "source": [
    "### 4b. Faces and genre\n",
    "\n",
    "Now, let's use confidence intervals to predict the average number of faces that\n",
    "are detected in a typical movie poster from a specific genre:"
   ]
  },
  {
   "cell_type": "code",
   "execution_count": null,
   "metadata": {},
   "outputs": [],
   "source": [
    "x = ['Horror', 'Comedy', 'Drama', 'Action', 'Adventure']\n",
    "y = []\n",
    "esize = []\n",
    "\n",
    "for genre in x:\n",
    "    ci = conf_int(df[df['genre'].str.contains(genre)].face_count.values)\n",
    "    y.append((ci[0] + ci[1]) / 2)\n",
    "    esize.append(ci[1] - ci[0])\n",
    "    \n",
    "plt.errorbar(x, y, yerr=esize, fmt='none')"
   ]
  },
  {
   "cell_type": "markdown",
   "metadata": {},
   "source": [
    "How would you describe the pattern here? Does it confirm your assumptions about\n",
    "the genres, or contradict them? "
   ]
  },
  {
   "cell_type": "markdown",
   "metadata": {},
   "source": [
    "## 5. Communication\n",
    "\n",
    "As this is a workshop, the \"communication\" of these results is largely the workshop\n",
    "itself. Can you think of other ways to communicate these results to a larger\n",
    "public?"
   ]
  },
  {
   "cell_type": "code",
   "execution_count": null,
   "metadata": {},
   "outputs": [],
   "source": []
  }
 ],
 "metadata": {
  "kernelspec": {
   "display_name": "Python 3",
   "language": "python",
   "name": "python3"
  },
  "language_info": {
   "codemirror_mode": {
    "name": "ipython",
    "version": 3
   },
   "file_extension": ".py",
   "mimetype": "text/x-python",
   "name": "python",
   "nbconvert_exporter": "python",
   "pygments_lexer": "ipython3",
   "version": "3.7.4"
  }
 },
 "nbformat": 4,
 "nbformat_minor": 2
}
